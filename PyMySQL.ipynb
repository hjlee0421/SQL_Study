{
 "metadata": {
  "language_info": {
   "codemirror_mode": {
    "name": "ipython",
    "version": 3
   },
   "file_extension": ".py",
   "mimetype": "text/x-python",
   "name": "python",
   "nbconvert_exporter": "python",
   "pygments_lexer": "ipython3",
   "version": "3.7.4-final"
  },
  "orig_nbformat": 2,
  "kernelspec": {
   "name": "python3",
   "display_name": "Python 3.7.4 64-bit",
   "metadata": {
    "interpreter": {
     "hash": "04635d289a519a1410467dd0afb0db42f9184808881ca68b2eb5a687a20a5a94"
    }
   }
  }
 },
 "nbformat": 4,
 "nbformat_minor": 2,
 "cells": [
  {
   "source": [
    "# MySQL and PyMySQL\n",
    "Using MySQL Server and Python library PyMySQL and Pandas to CRUD database and table on RDBMS.\n",
    "\n",
    "## PyMySQL\n",
    "- Create database\n",
    "- Delete database\n",
    "- Connect database\n",
    "- Create table\n",
    "- Read table\n",
    "- Update table\n",
    "- Delete table \n",
    "\n",
    "## Pandas\n",
    "- MySQL table to Pandas dataframe\n",
    "- Pandas dataframe to MySQL table"
   ],
   "cell_type": "markdown",
   "metadata": {}
  },
  {
   "source": [
    "First set mysql settings (host, password, and more) in json file.\n",
    "PyMySQL has a \"connect()\" function to connect mysql server, and \"connect()\" has a \"cursor()\" which travels mysql server."
   ],
   "cell_type": "markdown",
   "metadata": {}
  },
  {
   "cell_type": "code",
   "execution_count": 1,
   "metadata": {},
   "outputs": [],
   "source": [
    "import json\n",
    "import pymysql\n",
    "\n",
    "config = open('MySQL_Config.json')\n",
    "config = json.load(config)\n",
    "\n",
    "conn = pymysql.connect(host=config[\"localhost\"], user=config[\"user\"], password=config[\"password\"], database='', port=3306)\n",
    "cursor = conn.cursor()"
   ]
  },
  {
   "source": [
    "'CREATE DATABASE DB_NAME' to create database on mysql server.\n",
    "\"cursor.execute(sql)\" to execute query on mysql server and save it with \"conn.commit()\""
   ],
   "cell_type": "markdown",
   "metadata": {}
  },
  {
   "cell_type": "code",
   "execution_count": 5,
   "metadata": {},
   "outputs": [],
   "source": [
    "# Create a database\n",
    "def create_db(name=None):\n",
    "    if name == None:\n",
    "        print(\"Please enter database name\")\n",
    "    else:\n",
    "        conn = pymysql.connect(host=config[\"localhost\"], user=config[\"user\"], password=config[\"password\"], database='', port=3306)\n",
    "        cursor = conn.cursor()\n",
    "\n",
    "        sql = 'CREATE DATABASE ' + name\n",
    "        \n",
    "        try:\n",
    "            cursor.execute(sql)\n",
    "            print(\"created database\", name)\n",
    "        except Exception as e:\n",
    "            print(e)\n",
    "        conn.commit()\n",
    "        conn.close()"
   ]
  },
  {
   "source": [
    "'Drop DATABASE DB_NAME' to delete database on mysql server."
   ],
   "cell_type": "markdown",
   "metadata": {}
  },
  {
   "cell_type": "code",
   "execution_count": 6,
   "metadata": {},
   "outputs": [],
   "source": [
    "# Delete a database\n",
    "def delete_db(name=None):\n",
    "    if name == None:\n",
    "        print(\"Please enter database name\")\n",
    "    else:\n",
    "        conn = pymysql.connect(host=config[\"localhost\"], user=config[\"user\"], password=config[\"password\"], database='', port=3306)\n",
    "        cursor = conn.cursor()\n",
    "\n",
    "        sql = 'DROP DATABASE ' + name\n",
    "        try:\n",
    "            cursor.execute(sql)\n",
    "            print(\"deleted database\", name)\n",
    "        except Exception as e:\n",
    "            print(e)\n",
    "        conn.commit()\n",
    "        conn.close()"
   ]
  },
  {
   "source": [
    "Connect to given database name and return conn and cursor to CRUD database and/or table."
   ],
   "cell_type": "markdown",
   "metadata": {}
  },
  {
   "cell_type": "code",
   "execution_count": 7,
   "metadata": {},
   "outputs": [],
   "source": [
    "# Connect to the database\n",
    "def connect_db(name=None):\n",
    "    if name == None:\n",
    "        print(\"Please enter database name\")\n",
    "    else:\n",
    "        try:\n",
    "            conn = pymysql.connect(host=config[\"localhost\"], user=config[\"user\"], password=config[\"password\"], database=name, port=3306)\n",
    "            cursor = conn.cursor()\n",
    "            return conn, cursor\n",
    "        except Exception as e:\n",
    "            print(e)\n",
    "        conn.commit()\n",
    "        conn.close()"
   ]
  },
  {
   "source": [
    "With defined function, It is available create and delete database with one line."
   ],
   "cell_type": "markdown",
   "metadata": {}
  },
  {
   "cell_type": "code",
   "execution_count": 8,
   "metadata": {},
   "outputs": [
    {
     "output_type": "stream",
     "name": "stdout",
     "text": [
      "(1007, \"Can't create database 'studysql'; database exists\")\ndeleted database studysql\ncreated database studysql\n"
     ]
    }
   ],
   "source": [
    "create_db(name=\"studysql\")\n",
    "delete_db(name=\"studysql\")\n",
    "create_db(name=\"studysql\")"
   ]
  },
  {
   "source": [
    "Let's start CRUD table on studysql database\n",
    "\n",
    "Create table with name USERS can be executed with CREATE TABLE TABLE_NAME operator and it has fields userid, lastname, firstname and city.\n",
    "userid is primary key and also automatically incremented by 1."
   ],
   "cell_type": "markdown",
   "metadata": {}
  },
  {
   "cell_type": "code",
   "execution_count": 24,
   "metadata": {},
   "outputs": [
    {
     "output_type": "stream",
     "name": "stdout",
     "text": [
      "studysql databse has tables = (('users',),)\n"
     ]
    }
   ],
   "source": [
    "conn, cursor = connect_db(name=\"studysql\")\n",
    "\n",
    "sql = '''\n",
    "    CREATE TABLE USERS (\n",
    "        UserID int NOT NULL AUTO_INCREMENT PRIMARY KEY,\n",
    "        LastName varchar(255),\n",
    "        FirstName varchar(255),\n",
    "        City varchar(255)\n",
    "    )AUTO_INCREMENT=1;\n",
    "'''\n",
    "cursor.execute(sql)\n",
    "conn.commit()\n",
    "\n",
    "sql = 'SHOW TABLES'\n",
    "cursor.execute(sql)\n",
    "conn.commit()\n",
    "rows = cursor.fetchall()\n",
    "print(\"studysql databse has tables =\", rows)"
   ]
  },
  {
   "source": [
    "Read USERS table with SELECT operator, * means all column.\n",
    "Since there is no row or record, it shows empty table."
   ],
   "cell_type": "markdown",
   "metadata": {}
  },
  {
   "cell_type": "code",
   "execution_count": 25,
   "metadata": {},
   "outputs": [
    {
     "output_type": "stream",
     "name": "stdout",
     "text": [
      "user rows = ()\n"
     ]
    }
   ],
   "source": [
    "sql = 'SELECT * FROM USERS;'\n",
    "cursor.execute(sql)\n",
    "conn.commit()\n",
    "rows = cursor.fetchall()\n",
    "print(\"user rows =\", rows)"
   ]
  },
  {
   "source": [
    "Update table includes several operators, INSERT INTO, DELETE, WHERE conditional, LIKE s% %s% %s, ORDER BY and more.\n",
    "Here it covers baisc operators first."
   ],
   "cell_type": "markdown",
   "metadata": {}
  },
  {
   "cell_type": "code",
   "execution_count": 26,
   "metadata": {},
   "outputs": [
    {
     "output_type": "stream",
     "name": "stdout",
     "text": [
      "user rows = ((1, 'JAME', 'LEBRON', 'LA'), (2, 'JORDAN', 'MICHAEL', 'CHICAGO'), (3, 'BRYANT', 'KOBE', 'LA'))\n###################################################\nuser rows = ((2, 'JORDAN', 'MICHAEL', 'CHICAGO'), (3, 'BRYANT', 'KOBE', 'LA'))\n###################################################\nuser rows = ((2, 'JORDAN', 'MICHAEL', 'CHICAGO'),)\n###################################################\nuser rows = ((3, 'BRYANT', 'KOBE', 'LA'), (2, 'JORDAN', 'MICHAEL', 'CHICAGO'))\n"
     ]
    }
   ],
   "source": [
    "# insert multiple rows into table USERS\n",
    "sql = '''INSERT INTO USERS (UserID, LastName, FirstName, City) VALUES (0, 'JAME', 'LEBRON', 'LA'), (0, 'JORDAN', 'MICHAEL', 'CHICAGO'), (0, 'BRYANT', 'KOBE', 'LA');'''\n",
    "cursor.execute(sql)\n",
    "conn.commit()\n",
    "\n",
    "# read table with 3 users\n",
    "sql = 'SELECT * FROM USERS;'\n",
    "cursor.execute(sql)\n",
    "rows = cursor.fetchall()\n",
    "print(\"user rows =\", rows)\n",
    "\n",
    "print(\"###################################################\")\n",
    "\n",
    "# delete user with UserID=1\n",
    "sql = '''DELETE FROM USERS WHERE UserID = 1;'''\n",
    "cursor.execute(sql)\n",
    "conn.commit()\n",
    "\n",
    "# read table with 2 users\n",
    "sql = 'SELECT * FROM USERS;'\n",
    "cursor.execute(sql)\n",
    "rows = cursor.fetchall()\n",
    "print(\"user rows =\", rows)\n",
    "\n",
    "print(\"###################################################\")\n",
    "\n",
    "# read table with last name contain JORDAN\n",
    "sql = 'SELECT * FROM USERS WHERE LastName LIKE \"%JORDAN%\";'\n",
    "cursor.execute(sql)\n",
    "rows = cursor.fetchall()\n",
    "print(\"user rows =\", rows)\n",
    "\n",
    "print(\"###################################################\")\n",
    "\n",
    "# read table with order by last name\n",
    "sql = 'SELECT * FROM USERS ORDER BY LastName;'\n",
    "cursor.execute(sql)\n",
    "rows = cursor.fetchall()\n",
    "print(\"user rows =\", rows)"
   ]
  },
  {
   "source": [
    "Delete table with DROP operator."
   ],
   "cell_type": "markdown",
   "metadata": {}
  },
  {
   "cell_type": "code",
   "execution_count": 23,
   "metadata": {},
   "outputs": [
    {
     "output_type": "stream",
     "name": "stdout",
     "text": [
      "studysql databse has tables = (('users',),)\nstudysql databse has tables = ()\n"
     ]
    }
   ],
   "source": [
    "# studysql database has USERS table\n",
    "sql = 'SHOW TABLES'\n",
    "cursor.execute(sql)\n",
    "conn.commit()\n",
    "rows = cursor.fetchall()\n",
    "print(\"studysql databse has tables =\", rows)\n",
    "\n",
    "# delete USERS table\n",
    "sql = \"DROP TABLE USERS\"\n",
    "cursor.execute(sql)\n",
    "conn.commit()\n",
    "\n",
    "# studysql database has no table\n",
    "sql = 'SHOW TABLES'\n",
    "cursor.execute(sql)\n",
    "conn.commit()\n",
    "rows = cursor.fetchall()\n",
    "print(\"studysql databse has tables =\", rows)\n"
   ]
  },
  {
   "source": [
    "Let's use sqlalchemy and pandas to convert mysql table to pandas dataframe and vice versa."
   ],
   "cell_type": "markdown",
   "metadata": {}
  },
  {
   "cell_type": "code",
   "execution_count": 41,
   "metadata": {},
   "outputs": [
    {
     "output_type": "execute_result",
     "data": {
      "text/plain": [
       "   col1  col2\n",
       "0     1     3\n",
       "1     2     4\n",
       "2     1     3\n",
       "3     2     4\n",
       "4     1     3\n",
       "5     2     4"
      ],
      "text/html": "<div>\n<style scoped>\n    .dataframe tbody tr th:only-of-type {\n        vertical-align: middle;\n    }\n\n    .dataframe tbody tr th {\n        vertical-align: top;\n    }\n\n    .dataframe thead th {\n        text-align: right;\n    }\n</style>\n<table border=\"1\" class=\"dataframe\">\n  <thead>\n    <tr style=\"text-align: right;\">\n      <th></th>\n      <th>col1</th>\n      <th>col2</th>\n    </tr>\n  </thead>\n  <tbody>\n    <tr>\n      <th>0</th>\n      <td>1</td>\n      <td>3</td>\n    </tr>\n    <tr>\n      <th>1</th>\n      <td>2</td>\n      <td>4</td>\n    </tr>\n    <tr>\n      <th>2</th>\n      <td>1</td>\n      <td>3</td>\n    </tr>\n    <tr>\n      <th>3</th>\n      <td>2</td>\n      <td>4</td>\n    </tr>\n    <tr>\n      <th>4</th>\n      <td>1</td>\n      <td>3</td>\n    </tr>\n    <tr>\n      <th>5</th>\n      <td>2</td>\n      <td>4</td>\n    </tr>\n  </tbody>\n</table>\n</div>"
     },
     "metadata": {},
     "execution_count": 41
    }
   ],
   "source": [
    "\n",
    "import json\n",
    "import pymysql\n",
    "import pandas as pd\n",
    "from sqlalchemy import create_engine\n",
    "\n",
    "config = open('MySQL_Config.json')\n",
    "config = json.load(config)\n",
    "\n",
    "\n",
    "# Pandas Dataframe to MySQL Table\n",
    "engine = create_engine(\"mysql+pymysql://\"+config['user']+\":\"+config['password']+\"@\"+config['localhost']+\":3306/studysql?charset=utf8\",  encoding='utf-8')\n",
    "\n",
    "conn = engine.connect()\n",
    "\n",
    "df = pd.DataFrame(data={'col1': [1, 2], 'col2': [3, 4]})\n",
    "df.to_sql(name=\"dataframe_table\", con=conn, if_exists='append', index=False)\n",
    "# if_exists= append/replace/fail\n",
    "conn.close()\n",
    "\n",
    "# MySQ Table to Pandas Dataframe\n",
    "conn, cursor = connect_db(name=\"studysql\")\n",
    "\n",
    "sql = \"SELECT * FROM dataframe_table\"\n",
    "check_table = pd.read_sql(sql, conn)\n",
    "conn.close()\n",
    "check_table"
   ]
  }
 ]
}