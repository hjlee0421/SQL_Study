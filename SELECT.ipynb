{
 "metadata": {
  "language_info": {
   "codemirror_mode": {
    "name": "ipython",
    "version": 3
   },
   "file_extension": ".py",
   "mimetype": "text/x-python",
   "name": "python",
   "nbconvert_exporter": "python",
   "pygments_lexer": "ipython3",
   "version": 3
  },
  "orig_nbformat": 2
 },
 "nbformat": 4,
 "nbformat_minor": 2,
 "cells": [
  {
   "source": [
    "# SELECT\n",
    "\n",
    "https://programmers.co.kr/learn/courses/30/parts/17042\n",
    "\n",
    " - 모든 레코드 조회하기\n",
    " - 역순 정렬하기\n",
    " - 아픈 동물 찾기\n",
    " - 어린 동물 찾기\n",
    " - 동물의 아이디와 이름\n",
    " - 여러 기준으로 정렬하기\n",
    " - 상위 n개 레코드"
   ],
   "cell_type": "markdown",
   "metadata": {}
  },
  {
   "source": [
    "### 모든 레코드 조회하기\n",
    "#### 문제 설명\n",
    "ANIMAL_INS 테이블은 동물 보호소에 들어온 동물의 정보를 담은 테이블입니다. ANIMAL_INS 테이블 구조는 다음과 같으며, ANIMAL_ID, ANIMAL_TYPE, DATETIME, INTAKE_CONDITION, NAME, SEX_UPON_INTAKE는 각각 동물의 아이디, 생물 종, 보호 시작일, 보호 시작 시 상태, 이름, 성별 및 중성화 여부를 나타냅니다.\n",
    "\n",
    "NAME\tTYPE\tNULLABLE\n",
    "ANIMAL_ID\tVARCHAR(N)\tFALSE\n",
    "ANIMAL_TYPE\tVARCHAR(N)\tFALSE\n",
    "DATETIME\tDATETIME\tFALSE\n",
    "INTAKE_CONDITION\tVARCHAR(N)\tFALSE\n",
    "NAME\tVARCHAR(N)\tTRUE\n",
    "SEX_UPON_INTAKE\tVARCHAR(N)\tFALSE\n",
    "\n",
    "동물 보호소에 들어온 모든 동물의 정보를 ANIMAL_ID순으로 조회하는 SQL문을 작성해주세요. SQL을 실행하면 다음과 같이 출력되어야 합니다.\n",
    "\n",
    "ANIMAL_ID\tANIMAL_TYPE\tDATETIME\tINTAKE_CONDITION\tNAME\tSEX_UPON_INTAKE\n",
    "A349996\tCat\t2018-01-22 14:32:00\tNormal\tSugar\tNeutered Male\n",
    "A350276\tCat\t2017-08-13 13:50:00\tNormal\tJewel\tSpayed Female\n",
    "A350375\tCat\t2017-03-06 15:01:00\tNormal\tMeo\tNeutered Male\n",
    "A352555\tDog\t2014-08-08 04:20:00\tNormal\tHarley\tSpayed Female\n",
    "..이하 생략\n",
    "\n"
   ],
   "cell_type": "markdown",
   "metadata": {}
  },
  {
   "cell_type": "code",
   "execution_count": null,
   "metadata": {},
   "outputs": [],
   "source": [
    "'''\n",
    "-- 코드를 입력하세요\n",
    "SELECT\n",
    "    ANIMAL_ID,\n",
    "    ANIMAL_TYPE,\n",
    "    DATETIME,\n",
    "    INTAKE_CONDITION,\n",
    "    NAME,\n",
    "    SEX_UPON_INTAKE\n",
    "FROM\n",
    "    ANIMAL_INS\n",
    "ORDER BY\n",
    "    ANIMAL_ID\n",
    "'''"
   ]
  },
  {
   "cell_type": "code",
   "execution_count": null,
   "metadata": {},
   "outputs": [],
   "source": []
  }
 ]
}