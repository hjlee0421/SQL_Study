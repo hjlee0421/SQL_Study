{
 "metadata": {
  "language_info": {
   "codemirror_mode": {
    "name": "ipython",
    "version": 3
   },
   "file_extension": ".py",
   "mimetype": "text/x-python",
   "name": "python",
   "nbconvert_exporter": "python",
   "pygments_lexer": "ipython3",
   "version": 3
  },
  "orig_nbformat": 2
 },
 "nbformat": 4,
 "nbformat_minor": 2,
 "cells": [
  {
   "source": [
    "# [SELECT](https://programmers.co.kr/learn/courses/30/parts/17042)\n",
    "\n",
    " - [모든 레코드 조회하기](https://programmers.co.kr/learn/courses/30/lessons/59034)\n",
    " - [역순 정렬하기](https://programmers.co.kr/learn/courses/30/lessons/59035)\n",
    " - [아픈 동물 찾기](https://programmers.co.kr/learn/courses/30/lessons/59036)\n",
    " - [어린 동물 찾기](https://programmers.co.kr/learn/courses/30/lessons/59037)\n",
    " - [동물의 아이디와 이름](https://programmers.co.kr/learn/courses/30/lessons/59403)\n",
    " - [여러 기준으로 정렬하기](https://programmers.co.kr/learn/courses/30/lessons/59404)\n",
    " - [상위 n개 레코드](https://programmers.co.kr/learn/courses/30/lessons/59405)"
   ],
   "cell_type": "markdown",
   "metadata": {}
  },
  {
   "source": [
    "### 모든 레코드 조회하기\n",
    "#### 문제 설명\n",
    "\n",
    "ANIMAL_INS 테이블은 동물 보호소에 들어온 동물의 정보를 담은 테이블입니다. ANIMAL_INS 테이블 구조는 다음과 같으며, ANIMAL_ID, ANIMAL_TYPE, DATETIME, INTAKE_CONDITION, NAME, SEX_UPON_INTAKE는 각각 동물의 아이디, 생물 종, 보호 시작일, 보호 시작 시 상태, 이름, 성별 및 중성화 여부를 나타냅니다.\n",
    "\n",
    "동물 보호소에 들어온 모든 동물의 정보를 ANIMAL_ID순으로 조회하는 SQL문을 작성해주세요."
   ],
   "cell_type": "markdown",
   "metadata": {}
  },
  {
   "cell_type": "code",
   "execution_count": null,
   "metadata": {},
   "outputs": [],
   "source": [
    "'''\n",
    "-- 코드를 입력하세요\n",
    "SELECT\n",
    "    ANIMAL_ID,\n",
    "    ANIMAL_TYPE,\n",
    "    DATETIME,\n",
    "    INTAKE_CONDITION,\n",
    "    NAME,\n",
    "    SEX_UPON_INTAKE\n",
    "FROM\n",
    "    ANIMAL_INS\n",
    "ORDER BY\n",
    "    ANIMAL_ID\n",
    "'''"
   ]
  },
  {
   "source": [
    "### 역순 정렬하기\n",
    "#### 문제 설명\n",
    "\n",
    "ANIMAL_INS 테이블은 동물 보호소에 들어온 동물의 정보를 담은 테이블입니다. ANIMAL_INS 테이블 구조는 다음과 같으며, ANIMAL_ID, ANIMAL_TYPE, DATETIME, INTAKE_CONDITION, NAME, SEX_UPON_INTAKE는 각각 동물의 아이디, 생물 종, 보호 시작일, 보호 시작 시 상태, 이름, 성별 및 중성화 여부를 나타냅니다.\n",
    "\n",
    "동물 보호소에 들어온 모든 동물의 이름과 보호 시작일을 조회하는 SQL문을 작성해주세요. 이때 결과는 ANIMAL_ID 역순으로 보여주세요."
   ],
   "cell_type": "markdown",
   "metadata": {}
  },
  {
   "cell_type": "code",
   "execution_count": null,
   "metadata": {},
   "outputs": [],
   "source": [
    "'''\n",
    "-- 코드를 입력하세요\n",
    "SELECT\n",
    "    NAME,\n",
    "    DATETIME\n",
    "FROM\n",
    "    ANIMAL_INS\n",
    "ORDER BY\n",
    "    ANIMAL_ID DESC\n",
    "'''"
   ]
  },
  {
   "source": [
    "### 아픈 동물 찾기\n",
    "#### 문제 설명\n",
    "\n",
    "ANIMAL_INS 테이블은 동물 보호소에 들어온 동물의 정보를 담은 테이블입니다. ANIMAL_INS 테이블 구조는 다음과 같으며, ANIMAL_ID, ANIMAL_TYPE, DATETIME, INTAKE_CONDITION, NAME, SEX_UPON_INTAKE는 각각 동물의 아이디, 생물 종, 보호 시작일, 보호 시작 시 상태, 이름, 성별 및 중성화 여부를 나타냅니다.\n",
    "\n",
    "동물 보호소에 들어온 동물 중 아픈 동물1의 아이디와 이름을 조회하는 SQL 문을 작성해주세요."
   ],
   "cell_type": "markdown",
   "metadata": {}
  },
  {
   "cell_type": "code",
   "execution_count": null,
   "metadata": {},
   "outputs": [],
   "source": [
    "'''\n",
    "-- 코드를 입력하세요\n",
    "SELECT\n",
    "    ANIMAL_ID,\n",
    "    NAME\n",
    "FROM\n",
    "    ANIMAL_INS\n",
    "WHERE\n",
    "    INTAKE_CONDITION = \"Sick\"\n",
    "ORDER BY\n",
    "    ANIMAL_ID ASC\n",
    "'''"
   ]
  },
  {
   "source": [
    "### 어린 동물 찾기\n",
    "#### 문제 설명\n",
    "\n",
    "ANIMAL_INS 테이블은 동물 보호소에 들어온 동물의 정보를 담은 테이블입니다. ANIMAL_INS 테이블 구조는 다음과 같으며, ANIMAL_ID, ANIMAL_TYPE, DATETIME, INTAKE_CONDITION, NAME, SEX_UPON_INTAKE는 각각 동물의 아이디, 생물 종, 보호 시작일, 보호 시작 시 상태, 이름, 성별 및 중성화 여부를 나타냅니다.\n",
    "\n",
    "동물 보호소에 들어온 동물 중 젊은 동물1의 아이디와 이름을 조회하는 SQL 문을 작성해주세요."
   ],
   "cell_type": "markdown",
   "metadata": {}
  },
  {
   "cell_type": "code",
   "execution_count": null,
   "metadata": {},
   "outputs": [],
   "source": [
    "'''\n",
    "-- 코드를 입력하세요\n",
    "SELECT\n",
    "    ANIMAL_ID,\n",
    "    NAME\n",
    "FROM\n",
    "    ANIMAL_INS\n",
    "WHERE\n",
    "    INTAKE_CONDITION != \"Aged\"\n",
    "ORDER BY\n",
    "    ANIMAL_ID ASC\n",
    "'''"
   ]
  },
  {
   "source": [
    "### 동물의 아이디와 이름\n",
    "####문제 설명\n",
    "\n",
    "ANIMAL_INS 테이블은 동물 보호소에 들어온 동물의 정보를 담은 테이블입니다. ANIMAL_INS 테이블 구조는 다음과 같으며, ANIMAL_ID, ANIMAL_TYPE, DATETIME, INTAKE_CONDITION, NAME, SEX_UPON_INTAKE는 각각 동물의 아이디, 생물 종, 보호 시작일, 보호 시작 시 상태, 이름, 성별 및 중성화 여부를 나타냅니다.\n",
    "\n",
    "동물 보호소에 들어온 모든 동물의 아이디와 이름을 ANIMAL_ID순으로 조회하는 SQL문을 작성해주세요."
   ],
   "cell_type": "markdown",
   "metadata": {}
  },
  {
   "cell_type": "code",
   "execution_count": null,
   "metadata": {},
   "outputs": [],
   "source": [
    "'''\n",
    "-- 코드를 입력하세요\n",
    "SELECT\n",
    "    ANIMAL_ID,\n",
    "    NAME\n",
    "FROM\n",
    "    ANIMAL_INS\n",
    "ORDER BY\n",
    "    ANIMAL_ID ASC\n",
    "'''"
   ]
  },
  {
   "source": [
    "### 여러 기준으로 정렬하기\n",
    "#### 문제 설명\n",
    "\n",
    "ANIMAL_INS 테이블은 동물 보호소에 들어온 동물의 정보를 담은 테이블입니다. ANIMAL_INS 테이블 구조는 다음과 같으며, ANIMAL_ID, ANIMAL_TYPE, DATETIME, INTAKE_CONDITION, NAME, SEX_UPON_INTAKE는 각각 동물의 아이디, 생물 종, 보호 시작일, 보호 시작 시 상태, 이름, 성별 및 중성화 여부를 나타냅니다.\n",
    "\n",
    "동물 보호소에 들어온 모든 동물의 아이디와 이름, 보호 시작일을 이름 순으로 조회하는 SQL문을 작성해주세요. 단, 이름이 같은 동물 중에서는 보호를 나중에 시작한 동물을 먼저 보여줘야 합니다."
   ],
   "cell_type": "markdown",
   "metadata": {}
  },
  {
   "cell_type": "code",
   "execution_count": null,
   "metadata": {},
   "outputs": [],
   "source": [
    "'''\n",
    "-- 코드를 입력하세요\n",
    "SELECT\n",
    "    ANIMAL_ID,\n",
    "    NAME,\n",
    "    DATETIME\n",
    "FROM\n",
    "    ANIMAL_INS\n",
    "ORDER BY\n",
    "    NAME ASC,\n",
    "    DATETIME DESC\n",
    "'''"
   ]
  },
  {
   "source": [],
   "cell_type": "markdown",
   "metadata": {}
  },
  {
   "source": [
    "### 상위 n개 레코드\n",
    "#### 문제 설명\n",
    "\n",
    "ANIMAL_INS 테이블은 동물 보호소에 들어온 동물의 정보를 담은 테이블입니다. ANIMAL_INS 테이블 구조는 다음과 같으며, ANIMAL_ID, ANIMAL_TYPE, DATETIME, INTAKE_CONDITION, NAME, SEX_UPON_INTAKE는 각각 동물의 아이디, 생물 종, 보호 시작일, 보호 시작 시 상태, 이름, 성별 및 중성화 여부를 나타냅니다.\n",
    "\n",
    "동물 보호소에 가장 먼저 들어온 동물의 이름을 조회하는 SQL 문을 작성해주세요."
   ],
   "cell_type": "markdown",
   "metadata": {}
  },
  {
   "cell_type": "code",
   "execution_count": null,
   "metadata": {},
   "outputs": [],
   "source": [
    "'''\n",
    "-- 코드를 입력하세요\n",
    "SELECT\n",
    "    NAME\n",
    "FROM\n",
    "    ANIMAL_INS\n",
    "ORDER BY\n",
    "    DATETIME\n",
    "LIMIT\n",
    "    1\n",
    "'''"
   ]
  }
 ]
}