{
 "metadata": {
  "language_info": {
   "codemirror_mode": {
    "name": "ipython",
    "version": 3
   },
   "file_extension": ".py",
   "mimetype": "text/x-python",
   "name": "python",
   "nbconvert_exporter": "python",
   "pygments_lexer": "ipython3",
   "version": 3
  },
  "orig_nbformat": 2
 },
 "nbformat": 4,
 "nbformat_minor": 2,
 "cells": [
  {
   "source": [
    "# [SUM, MAX, MIN](https://programmers.co.kr/learn/courses/30/parts/17043)\n",
    "\n",
    " - [최댓값 구하기](https://programmers.co.kr/learn/courses/30/lessons/59415)\n",
    " - [최솟값 구하기](https://programmers.co.kr/learn/courses/30/lessons/59038)\n",
    " - [동물 수 구하기](https://programmers.co.kr/learn/courses/30/lessons/59406)\n",
    " - [중복 제거하기](https://programmers.co.kr/learn/courses/30/lessons/59408)"
   ],
   "cell_type": "markdown",
   "metadata": {}
  },
  {
   "source": [
    "### 최댓값 구하기\n",
    "#### 문제 설명\n",
    "\n",
    "ANIMAL_INS 테이블은 동물 보호소에 들어온 동물의 정보를 담은 테이블입니다. ANIMAL_INS 테이블 구조는 다음과 같으며, ANIMAL_ID, ANIMAL_TYPE, DATETIME, INTAKE_CONDITION, NAME, SEX_UPON_INTAKE는 각각 동물의 아이디, 생물 종, 보호 시작일, 보호 시작 시 상태, 이름, 성별 및 중성화 여부를 나타냅니다.\n",
    "\n",
    "가장 최근에 들어온 동물은 언제 들어왔는지 조회하는 SQL 문을 작성해주세요."
   ],
   "cell_type": "markdown",
   "metadata": {}
  },
  {
   "cell_type": "code",
   "execution_count": null,
   "metadata": {},
   "outputs": [],
   "source": [
    "'''\n",
    "-- 코드를 입력하세요\n",
    "SELECT\n",
    "    MAX (DATETIME)\n",
    "FROM\n",
    "    ANIMAL_INS;\n",
    "'''"
   ]
  },
  {
   "source": [
    "### 최솟값 구하기\n",
    "#### 문제 설명\n",
    "\n",
    "ANIMAL_INS 테이블은 동물 보호소에 들어온 동물의 정보를 담은 테이블입니다. ANIMAL_INS 테이블 구조는 다음과 같으며, ANIMAL_ID, ANIMAL_TYPE, DATETIME, INTAKE_CONDITION, NAME, SEX_UPON_INTAKE는 각각 동물의 아이디, 생물 종, 보호 시작일, 보호 시작 시 상태, 이름, 성별 및 중성화 여부를 나타냅니다.\n",
    "\n",
    "동물 보호소에 가장 먼저 들어온 동물은 언제 들어왔는지 조회하는 SQL 문을 작성해주세요."
   ],
   "cell_type": "markdown",
   "metadata": {}
  },
  {
   "cell_type": "code",
   "execution_count": null,
   "metadata": {},
   "outputs": [],
   "source": [
    "'''\n",
    "-- 코드를 입력하세요\n",
    "SELECT\n",
    "    MIN (DATETIME)\n",
    "FROM\n",
    "    ANIMAL_INS;\n",
    "'''"
   ]
  },
  {
   "source": [
    "### 동물 수 구하기\n",
    "#### 문제 설명\n",
    "\n",
    "ANIMAL_INS 테이블은 동물 보호소에 들어온 동물의 정보를 담은 테이블입니다. ANIMAL_INS 테이블 구조는 다음과 같으며, ANIMAL_ID, ANIMAL_TYPE, DATETIME, INTAKE_CONDITION, NAME, SEX_UPON_INTAKE는 각각 동물의 아이디, 생물 종, 보호 시작일, 보호 시작 시 상태, 이름, 성별 및 중성화 여부를 나타냅니다.\n",
    "\n",
    "동물 보호소에 동물이 몇 마리 들어왔는지 조회하는 SQL 문을 작성해주세요."
   ],
   "cell_type": "markdown",
   "metadata": {}
  },
  {
   "cell_type": "code",
   "execution_count": null,
   "metadata": {},
   "outputs": [],
   "source": [
    "'''\n",
    "-- 코드를 입력하세요\n",
    "SELECT\n",
    "    COUNT (ANIMAL_ID) \n",
    "FROM\n",
    "    ANIMAL_INS\n",
    "'''"
   ]
  },
  {
   "source": [
    "### 중복 제거하기\n",
    "#### 문제 설명\n",
    "\n",
    "ANIMAL_INS 테이블은 동물 보호소에 들어온 동물의 정보를 담은 테이블입니다. ANIMAL_INS 테이블 구조는 다음과 같으며, ANIMAL_ID, ANIMAL_TYPE, DATETIME, INTAKE_CONDITION, NAME, SEX_UPON_INTAKE는 각각 동물의 아이디, 생물 종, 보호 시작일, 보호 시작 시 상태, 이름, 성별 및 중성화 여부를 나타냅니다.\n",
    "\n",
    "동물 보호소에 들어온 동물의 이름은 몇 개인지 조회하는 SQL 문을 작성해주세요. 이때 이름이 NULL인 경우는 집계하지 않으며 중복되는 이름은 하나로 칩니다."
   ],
   "cell_type": "markdown",
   "metadata": {}
  },
  {
   "cell_type": "code",
   "execution_count": null,
   "metadata": {},
   "outputs": [],
   "source": [
    "'''\n",
    "-- 코드를 입력하세요\n",
    "SELECT\n",
    "    COUNT(DISTINCT NAME)\n",
    "FROM\n",
    "    ANIMAL_INS\n",
    "WHERE\n",
    "    NAME IS NOT NULL\n",
    "'''"
   ]
  }
 ]
}