{
 "metadata": {
  "language_info": {
   "codemirror_mode": {
    "name": "ipython",
    "version": 3
   },
   "file_extension": ".py",
   "mimetype": "text/x-python",
   "name": "python",
   "nbconvert_exporter": "python",
   "pygments_lexer": "ipython3",
   "version": 3
  },
  "orig_nbformat": 2
 },
 "nbformat": 4,
 "nbformat_minor": 2,
 "cells": [
  {
   "source": [
    "# MongoDB and ?\n",
    "Using MongoDB and Python library ?? to CRUD database.\n",
    "\n",
    "## MongoDB\n",
    "- Create database\n",
    "- Delete database\n",
    "- Connect database\n",
    "- Create table\n",
    "- Read table\n",
    "- Update table\n",
    "- Delete table \n",
    "\n",
    "## ?\n",
    "- MongoDB ?json? to Pandas dataframe or dictionary\n",
    "- Pandas dataframe or dictionary to MongoDB ?json?"
   ],
   "cell_type": "markdown",
   "metadata": {}
  }
 ]
}