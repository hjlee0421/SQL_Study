{
 "metadata": {
  "language_info": {
   "codemirror_mode": {
    "name": "ipython",
    "version": 3
   },
   "file_extension": ".py",
   "mimetype": "text/x-python",
   "name": "python",
   "nbconvert_exporter": "python",
   "pygments_lexer": "ipython3",
   "version": 3
  },
  "orig_nbformat": 2
 },
 "nbformat": 4,
 "nbformat_minor": 2,
 "cells": [
  {
   "source": [
    "# [GROUP BY](https://programmers.co.kr/learn/courses/30/parts/17044)\n",
    "\n",
    " - [고양이와 개는 몇 마리 있을까](https://programmers.co.kr/learn/courses/30/lessons/59040)\n",
    " - [동명 동물 수 찾기](https://programmers.co.kr/learn/courses/30/lessons/59041)\n",
    " - [입양 시각 구하기(1)](https://programmers.co.kr/learn/courses/30/lessons/59412)\n",
    " - [입양 시각 구하기(2)](https://programmers.co.kr/learn/courses/30/lessons/59413)"
   ],
   "cell_type": "markdown",
   "metadata": {}
  },
  {
   "source": [
    "### 고양이와 개는 몇 마리 있을까\n",
    "#### 문제 설명\n",
    "\n",
    "ANIMAL_INS 테이블은 동물 보호소에 들어온 동물의 정보를 담은 테이블입니다. ANIMAL_INS 테이블 구조는 다음과 같으며, ANIMAL_ID, ANIMAL_TYPE, DATETIME, INTAKE_CONDITION, NAME, SEX_UPON_INTAKE는 각각 동물의 아이디, 생물 종, 보호 시작일, 보호 시작 시 상태, 이름, 성별 및 중성화 여부를 나타냅니다.\n",
    "\n",
    "동물 보호소에 들어온 동물 중 고양이와 개가 각각 몇 마리인지 조회하는 SQL문을 작성해주세요. 이때 고양이를 개보다 먼저 조회해주세요."
   ],
   "cell_type": "markdown",
   "metadata": {}
  },
  {
   "cell_type": "code",
   "execution_count": null,
   "metadata": {},
   "outputs": [],
   "source": [
    "'''\n",
    "-- 코드를 입력하세요\n",
    "SELECT\n",
    "    ANIMAL_TYPE,\n",
    "    COUNT(ANIMAL_TYPE) COUNT\n",
    "FROM\n",
    "    ANIMAL_INS\n",
    "GROUP BY\n",
    "    ANIMAL_TYPE\n",
    "ORDER BY\n",
    "    ANIMAL_TYPE\n",
    "'''"
   ]
  },
  {
   "source": [
    "### 동명 동물 수 찾기\n",
    "#### 문제 설명\n",
    "\n",
    "ANIMAL_INS 테이블은 동물 보호소에 들어온 동물의 정보를 담은 테이블입니다. ANIMAL_INS 테이블 구조는 다음과 같으며, ANIMAL_ID, ANIMAL_TYPE, DATETIME, INTAKE_CONDITION, NAME, SEX_UPON_INTAKE는 각각 동물의 아이디, 생물 종, 보호 시작일, 보호 시작 시 상태, 이름, 성별 및 중성화 여부를 나타냅니다.\n",
    "\n",
    "동물 보호소에 들어온 동물 이름 중 두 번 이상 쓰인 이름과 해당 이름이 쓰인 횟수를 조회하는 SQL문을 작성해주세요. 이때 결과는 이름이 없는 동물은 집계에서 제외하며, 결과는 이름 순으로 조회해주세요."
   ],
   "cell_type": "markdown",
   "metadata": {}
  },
  {
   "cell_type": "code",
   "execution_count": null,
   "metadata": {},
   "outputs": [],
   "source": [
    "'''\n",
    "-- 코드를 입력하세요\n",
    "SELECT\n",
    "    NAME,\n",
    "    COUNT(NAME)\n",
    "FROM\n",
    "    ANIMAL_INS\n",
    "WHERE\n",
    "    NAME IS NOT NULL\n",
    "GROUP BY\n",
    "    NAME\n",
    "HAVING\n",
    "    COUNT(NAME) > 1\n",
    "ORDER BY\n",
    "    NAME\n",
    "'''"
   ]
  },
  {
   "source": [
    "### 입양 시각 구하기(1)\n",
    "#### 문제 설명\n",
    "\n",
    "ANIMAL_OUTS 테이블은 동물 보호소에서 입양 보낸 동물의 정보를 담은 테이블입니다. ANIMAL_OUTS 테이블 구조는 다음과 같으며, ANIMAL_ID, ANIMAL_TYPE, DATETIME, NAME, SEX_UPON_OUTCOME는 각각 동물의 아이디, 생물 종, 입양일, 이름, 성별 및 중성화 여부를 나타냅니다.\n",
    "\n",
    "보호소에서는 몇 시에 입양이 가장 활발하게 일어나는지 알아보려 합니다. 09:00부터 19:59까지, 각 시간대별로 입양이 몇 건이나 발생했는지 조회하는 SQL문을 작성해주세요. 이때 결과는 시간대 순으로 정렬해야 합니다."
   ],
   "cell_type": "markdown",
   "metadata": {}
  },
  {
   "cell_type": "code",
   "execution_count": null,
   "metadata": {},
   "outputs": [],
   "source": [
    "'''\n",
    "-- 코드를 입력하세요\n",
    "SELECT\n",
    "    HOUR(DATETIME) HOUR,\n",
    "    COUNT(*) COUNT\n",
    "FROM\n",
    "    ANIMAL_OUTS\n",
    "WHERE\n",
    "    HOUR(DATETIME) BETWEEN '9' AND '19'\n",
    "GROUP BY\n",
    "    HOUR\n",
    "ORDER BY\n",
    "    HOUR\n",
    "'''"
   ]
  },
  {
   "source": [
    "### 입양 시각 구하기(2)\n",
    "#### 문제 설명\n",
    "\n",
    "ANIMAL_OUTS 테이블은 동물 보호소에서 입양 보낸 동물의 정보를 담은 테이블입니다. ANIMAL_OUTS 테이블 구조는 다음과 같으며, ANIMAL_ID, ANIMAL_TYPE, DATETIME, NAME, SEX_UPON_OUTCOME는 각각 동물의 아이디, 생물 종, 입양일, 이름, 성별 및 중성화 여부를 나타냅니다.\n",
    "\n",
    "보호소에서는 몇 시에 입양이 가장 활발하게 일어나는지 알아보려 합니다. 0시부터 23시까지, 각 시간대별로 입양이 몇 건이나 발생했는지 조회하는 SQL문을 작성해주세요. 이때 결과는 시간대 순으로 정렬해야 합니다."
   ],
   "cell_type": "markdown",
   "metadata": {}
  },
  {
   "cell_type": "code",
   "execution_count": null,
   "metadata": {},
   "outputs": [],
   "source": [
    "'''\n",
    "-- 코드를 입력하세요\n",
    "SELECT\n",
    "    COUNT(DISTINCT NAME)\n",
    "FROM\n",
    "    ANIMAL_INS\n",
    "WHERE\n",
    "    NAME IS NOT NULL\n",
    "'''"
   ]
  }
 ]
}